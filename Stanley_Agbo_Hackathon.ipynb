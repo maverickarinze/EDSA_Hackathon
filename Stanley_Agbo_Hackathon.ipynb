{
 "cells": [
  {
   "cell_type": "markdown",
   "id": "1048249e",
   "metadata": {},
   "source": [
    "## Importing Packages"
   ]
  },
  {
   "cell_type": "code",
   "execution_count": 1,
   "id": "49fcaa43",
   "metadata": {},
   "outputs": [],
   "source": [
    "# Libraries for data loading, data manipulation\n",
    "import pandas as pd\n",
    "import numpy as np\n",
    "\n",
    "#Libraries for Data visualization\n",
    "import matplotlib.pyplot as plt\n",
    "import seaborn as sns\n",
    "sns.set(font_scale = 1)\n",
    "from wordcloud import WordCloud\n",
    "from statsmodels.graphics.correlation import plot_corr\n",
    "\n",
    "\n",
    "#Libraries to clean the text\n",
    "import contractions #This expands contraction such as 'don't' to 'do not'\n",
    "import regex as re\n",
    "import emoji #allows us to manipulate with emojis\n",
    "from sklearn.preprocessing import LabelEncoder\n",
    "\n",
    "\n",
    "#Libraries for test pre-processing\n",
    "from sklearn.feature_extraction.text import CountVectorizer\n",
    "from sklearn.feature_extraction.text import TfidfVectorizer\n",
    "\n",
    "\n",
    "# Libraries for model building\n",
    "from sklearn.model_selection import train_test_split\n",
    "from sklearn.svm import SVC\n",
    "\n",
    "\n",
    "#Libraries for Model Performance\n",
    "from sklearn.metrics import classification_report\n",
    "from sklearn.metrics import f1_score, precision_score, recall_score, confusion_matrix, accuracy_score\n",
    "\n",
    "# Libraries for mathematical analyses\n",
    "import numpy as np\n",
    "\n",
    "#Library for creating pickle files of the models\n",
    "import pickle"
   ]
  },
  {
   "cell_type": "markdown",
   "id": "aed2acd7",
   "metadata": {},
   "source": [
    "## Loading the Data"
   ]
  },
  {
   "cell_type": "code",
   "execution_count": 2,
   "id": "e41c835e",
   "metadata": {},
   "outputs": [],
   "source": [
    "train_df = pd.read_csv('train_set.csv')"
   ]
  },
  {
   "cell_type": "code",
   "execution_count": 3,
   "id": "0f132472",
   "metadata": {},
   "outputs": [
    {
     "data": {
      "text/html": [
       "<div>\n",
       "<style scoped>\n",
       "    .dataframe tbody tr th:only-of-type {\n",
       "        vertical-align: middle;\n",
       "    }\n",
       "\n",
       "    .dataframe tbody tr th {\n",
       "        vertical-align: top;\n",
       "    }\n",
       "\n",
       "    .dataframe thead th {\n",
       "        text-align: right;\n",
       "    }\n",
       "</style>\n",
       "<table border=\"1\" class=\"dataframe\">\n",
       "  <thead>\n",
       "    <tr style=\"text-align: right;\">\n",
       "      <th></th>\n",
       "      <th>lang_id</th>\n",
       "      <th>text</th>\n",
       "    </tr>\n",
       "  </thead>\n",
       "  <tbody>\n",
       "    <tr>\n",
       "      <th>0</th>\n",
       "      <td>xho</td>\n",
       "      <td>umgaqo-siseko wenza amalungiselelo kumaziko ax...</td>\n",
       "    </tr>\n",
       "    <tr>\n",
       "      <th>1</th>\n",
       "      <td>xho</td>\n",
       "      <td>i-dha iya kuba nobulumko bokubeka umsebenzi na...</td>\n",
       "    </tr>\n",
       "    <tr>\n",
       "      <th>2</th>\n",
       "      <td>eng</td>\n",
       "      <td>the province of kwazulu-natal department of tr...</td>\n",
       "    </tr>\n",
       "    <tr>\n",
       "      <th>3</th>\n",
       "      <td>nso</td>\n",
       "      <td>o netefatša gore o ba file dilo ka moka tše le...</td>\n",
       "    </tr>\n",
       "    <tr>\n",
       "      <th>4</th>\n",
       "      <td>ven</td>\n",
       "      <td>khomishini ya ndinganyiso ya mbeu yo ewa maana...</td>\n",
       "    </tr>\n",
       "  </tbody>\n",
       "</table>\n",
       "</div>"
      ],
      "text/plain": [
       "  lang_id                                               text\n",
       "0     xho  umgaqo-siseko wenza amalungiselelo kumaziko ax...\n",
       "1     xho  i-dha iya kuba nobulumko bokubeka umsebenzi na...\n",
       "2     eng  the province of kwazulu-natal department of tr...\n",
       "3     nso  o netefatša gore o ba file dilo ka moka tše le...\n",
       "4     ven  khomishini ya ndinganyiso ya mbeu yo ewa maana..."
      ]
     },
     "execution_count": 3,
     "metadata": {},
     "output_type": "execute_result"
    }
   ],
   "source": [
    "train_df.head()"
   ]
  },
  {
   "cell_type": "code",
   "execution_count": 4,
   "id": "ee9a9212",
   "metadata": {},
   "outputs": [
    {
     "data": {
      "text/plain": [
       "(33000, 2)"
      ]
     },
     "execution_count": 4,
     "metadata": {},
     "output_type": "execute_result"
    }
   ],
   "source": [
    "train_df.shape"
   ]
  },
  {
   "cell_type": "code",
   "execution_count": 5,
   "id": "223ea187",
   "metadata": {},
   "outputs": [
    {
     "name": "stdout",
     "output_type": "stream",
     "text": [
      "<class 'pandas.core.frame.DataFrame'>\n",
      "RangeIndex: 33000 entries, 0 to 32999\n",
      "Data columns (total 2 columns):\n",
      " #   Column   Non-Null Count  Dtype \n",
      "---  ------   --------------  ----- \n",
      " 0   lang_id  33000 non-null  object\n",
      " 1   text     33000 non-null  object\n",
      "dtypes: object(2)\n",
      "memory usage: 515.8+ KB\n"
     ]
    }
   ],
   "source": [
    "train_df.info()"
   ]
  },
  {
   "cell_type": "code",
   "execution_count": 6,
   "id": "bf7e2794",
   "metadata": {},
   "outputs": [
    {
     "data": {
      "text/plain": [
       "xho    3000\n",
       "eng    3000\n",
       "nso    3000\n",
       "ven    3000\n",
       "tsn    3000\n",
       "nbl    3000\n",
       "zul    3000\n",
       "ssw    3000\n",
       "tso    3000\n",
       "sot    3000\n",
       "afr    3000\n",
       "Name: lang_id, dtype: int64"
      ]
     },
     "execution_count": 6,
     "metadata": {},
     "output_type": "execute_result"
    }
   ],
   "source": [
    "train_df['lang_id'].value_counts()"
   ]
  },
  {
   "cell_type": "code",
   "execution_count": 7,
   "id": "0dbaf34f",
   "metadata": {},
   "outputs": [
    {
     "data": {
      "text/plain": [
       "<AxesSubplot:title={'center':'Language Distribution'}>"
      ]
     },
     "execution_count": 7,
     "metadata": {},
     "output_type": "execute_result"
    },
    {
     "data": {
      "image/png": "[encoded data removed]",
      "text/plain": [
       "<Figure size 432x288 with 1 Axes>"
      ]
     },
     "metadata": {},
     "output_type": "display_data"
    }
   ],
   "source": [
    "train_df['lang_id'].value_counts(ascending = True).plot(kind = 'bar', title = 'Language Distribution')"
   ]
  },
  {
   "cell_type": "code",
   "execution_count": 8,
   "id": "269eb187",
   "metadata": {},
   "outputs": [
    {
     "data": {
      "text/plain": [
       "11"
      ]
     },
     "execution_count": 8,
     "metadata": {},
     "output_type": "execute_result"
    }
   ],
   "source": [
    "len(train_df['lang_id'].unique())"
   ]
  },
  {
   "cell_type": "code",
   "execution_count": 9,
   "id": "56f3bd12",
   "metadata": {},
   "outputs": [
    {
     "data": {
      "text/plain": [
       "29948"
      ]
     },
     "execution_count": 9,
     "metadata": {},
     "output_type": "execute_result"
    }
   ],
   "source": [
    "len(train_df['text'].unique())"
   ]
  },
  {
   "cell_type": "code",
   "execution_count": 10,
   "id": "a407e310",
   "metadata": {},
   "outputs": [
    {
     "data": {
      "text/plain": [
       "(3052, 2)"
      ]
     },
     "execution_count": 10,
     "metadata": {},
     "output_type": "execute_result"
    }
   ],
   "source": [
    "train_df[train_df.duplicated(['text'])].shape"
   ]
  },
  {
   "cell_type": "code",
   "execution_count": 11,
   "id": "e21ef4bc",
   "metadata": {},
   "outputs": [
    {
     "data": {
      "text/plain": [
       "lang_id    0\n",
       "text       0\n",
       "dtype: int64"
      ]
     },
     "execution_count": 11,
     "metadata": {},
     "output_type": "execute_result"
    }
   ],
   "source": [
    "train_df.isna().sum()"
   ]
  },
  {
   "cell_type": "markdown",
   "id": "0f04d991",
   "metadata": {},
   "source": [
    "## Feature Engineering"
   ]
  },
  {
   "cell_type": "markdown",
   "id": "4a190199",
   "metadata": {},
   "source": [
    "### Splitting Features"
   ]
  },
  {
   "cell_type": "code",
   "execution_count": 12,
   "id": "5a486883",
   "metadata": {},
   "outputs": [
    {
     "data": {
      "text/plain": [
       "(33000,)"
      ]
     },
     "execution_count": 12,
     "metadata": {},
     "output_type": "execute_result"
    }
   ],
   "source": [
    "X = train_df['text']\n",
    "y = train_df['lang_id']\n",
    "X.shape"
   ]
  },
  {
   "cell_type": "code",
   "execution_count": 13,
   "id": "341140ab",
   "metadata": {},
   "outputs": [],
   "source": [
    "le = LabelEncoder()\n",
    "y = le.fit_transform(y)"
   ]
  },
  {
   "cell_type": "code",
   "execution_count": 14,
   "id": "a8be1000",
   "metadata": {},
   "outputs": [],
   "source": [
    "def define(text):\n",
    "    data_list = []\n",
    "    # iterating through all the text\n",
    "    for t in text:\n",
    "       # removing the symbols and numbers\n",
    "        t = re.sub(r'[!@#$(),n\"%^*?:;~`0-9]', ' ', t)\n",
    "        t = re.sub(r'[[]]', ' ', t)\n",
    "        # converting the text to lower case\n",
    "        t = t.lower()\n",
    "        # appending to data_list\n",
    "        data_list.append(t)\n",
    "    data = ''.join(data_list)\n",
    "    return data"
   ]
  },
  {
   "cell_type": "code",
   "execution_count": 15,
   "id": "27cab124",
   "metadata": {},
   "outputs": [],
   "source": [
    "data = train_df['text'].apply(lambda c: define(c))"
   ]
  },
  {
   "cell_type": "code",
   "execution_count": 16,
   "id": "07460e84",
   "metadata": {},
   "outputs": [],
   "source": [
    "#tf = TfidfVectorizer()\n",
    "#tf.fit(data)\n",
    "#X = tf.transform(data)"
   ]
  },
  {
   "cell_type": "code",
   "execution_count": 17,
   "id": "13c17d86",
   "metadata": {},
   "outputs": [
    {
     "data": {
      "text/plain": [
       "(33000, 105196)"
      ]
     },
     "execution_count": 17,
     "metadata": {},
     "output_type": "execute_result"
    }
   ],
   "source": [
    "cv = CountVectorizer()\n",
    "X = cv.fit_transform(data)\n",
    "X.shape"
   ]
  },
  {
   "cell_type": "code",
   "execution_count": 18,
   "id": "5e793706",
   "metadata": {},
   "outputs": [
    {
     "data": {
      "text/plain": [
       "(26400, 105196)"
      ]
     },
     "execution_count": 18,
     "metadata": {},
     "output_type": "execute_result"
    }
   ],
   "source": [
    "X_train, X_test, y_train, y_test = train_test_split(X, y, test_size=0.2)\n",
    "X_train.shape"
   ]
  },
  {
   "cell_type": "markdown",
   "id": "e8952827",
   "metadata": {},
   "source": [
    "## Modelling"
   ]
  },
  {
   "cell_type": "markdown",
   "id": "12e3f9f0",
   "metadata": {},
   "source": [
    "### SVC"
   ]
  },
  {
   "cell_type": "code",
   "execution_count": 281,
   "id": "c95eb421",
   "metadata": {},
   "outputs": [],
   "source": [
    "model = SVC(kernel='rbf')\n",
    "model.fit(X_train, y_train)"
   ]
  },
  {
   "cell_type": "code",
   "execution_count": 282,
   "id": "e77d0705",
   "metadata": {},
   "outputs": [],
   "source": [
    "y_pred1 = model.predict(X_test)"
   ]
  },
  {
   "cell_type": "code",
   "execution_count": 283,
   "id": "c07c12af",
   "metadata": {},
   "outputs": [],
   "source": [
    "ac = accuracy_score(y_test, y_pred1)\n",
    "cm = confusion_matrix(y_test, y_pred1)\n",
    "\n",
    "print(\"Accuracy is :\",ac)"
   ]
  },
  {
   "cell_type": "markdown",
   "id": "a6736d7d",
   "metadata": {},
   "source": [
    "### Multinomial Naive Bayes"
   ]
  },
  {
   "cell_type": "code",
   "execution_count": 295,
   "id": "45ec73d2",
   "metadata": {},
   "outputs": [
    {
     "data": {
      "text/plain": [
       "MultinomialNB()"
      ]
     },
     "execution_count": 295,
     "metadata": {},
     "output_type": "execute_result"
    }
   ],
   "source": [
    "from sklearn.naive_bayes import MultinomialNB\n",
    "mb = MultinomialNB()\n",
    "mb.fit(X_train, y_train)"
   ]
  },
  {
   "cell_type": "code",
   "execution_count": 296,
   "id": "df4df738",
   "metadata": {},
   "outputs": [],
   "source": [
    "y_pred = mb.predict(X_test)"
   ]
  },
  {
   "cell_type": "code",
   "execution_count": 297,
   "id": "2a12fa29",
   "metadata": {},
   "outputs": [
    {
     "name": "stdout",
     "output_type": "stream",
     "text": [
      "Accuracy is : 0.9995454545454545\n"
     ]
    }
   ],
   "source": [
    "ac = accuracy_score(y_test, y_pred)\n",
    "cm = confusion_matrix(y_test, y_pred)\n",
    "\n",
    "print(\"Accuracy is :\",ac)"
   ]
  },
  {
   "cell_type": "markdown",
   "id": "ec96654e",
   "metadata": {},
   "source": [
    "## Random Forest"
   ]
  },
  {
   "cell_type": "code",
   "execution_count": 322,
   "id": "1913dba5",
   "metadata": {},
   "outputs": [
    {
     "data": {
      "text/plain": [
       "RandomForestClassifier(n_estimators=50, random_state=42)"
      ]
     },
     "execution_count": 322,
     "metadata": {},
     "output_type": "execute_result"
    }
   ],
   "source": [
    "from sklearn.ensemble import RandomForestClassifier\n",
    "\n",
    "forest = RandomForestClassifier(n_estimators=50, random_state=42)\n",
    "forest.fit(X_train, y_train)"
   ]
  },
  {
   "cell_type": "code",
   "execution_count": 315,
   "id": "bbfd835b",
   "metadata": {},
   "outputs": [],
   "source": [
    "y_pred2 = forest.predict(X_test)"
   ]
  },
  {
   "cell_type": "code",
   "execution_count": 316,
   "id": "ab63302c",
   "metadata": {},
   "outputs": [
    {
     "name": "stdout",
     "output_type": "stream",
     "text": [
      "Accuracy is : 0.99\n"
     ]
    }
   ],
   "source": [
    "ac = accuracy_score(y_test, y_pred2)\n",
    "cm = confusion_matrix(y_test, y_pred2)\n",
    "\n",
    "print(\"Accuracy is :\",ac)"
   ]
  },
  {
   "cell_type": "markdown",
   "id": "f2efc4b6",
   "metadata": {},
   "source": [
    "## Stacking Classifier"
   ]
  },
  {
   "cell_type": "code",
   "execution_count": 45,
   "id": "7655eab2",
   "metadata": {},
   "outputs": [],
   "source": [
    "#from sklearn.ensemble import StackingClassifier\n",
    "#from sklearn.preprocessing import StandardScaler\n",
    "#from sklearn.linear_model import LogisticRegression\n",
    "#from sklearn.pipeline import make_pipeline\n",
    "#from sklearn.ensemble import RandomForestClassifier\n",
    "#from sklearn.svm import LinearSVC\n",
    "#from sklearn.naive_bayes import MultinomialNB\n",
    "\n",
    "#estimators = [('forest', RandomForestClassifier(n_estimators=20, random_state=42)),\n",
    " #             ('mb', LogisticRegression()),\n",
    "  #            ('svc', SVC(kernel='rbf'))] #make_pipeline(\n",
    "                           #LinearSVC(random_state=42)))]\n",
    "\n",
    "#sc = StackingClassifier(estimators=estimators, final_estimator=MultinomialNB())\n",
    "#sc.fit(X_train, y_train)"
   ]
  },
  {
   "cell_type": "code",
   "execution_count": 43,
   "id": "6324a9b7",
   "metadata": {},
   "outputs": [
    {
     "name": "stdout",
     "output_type": "stream",
     "text": [
      "Accuracy is : 0.998030303030303\n"
     ]
    }
   ],
   "source": [
    "y_pred3 = sc.predict(X_test)\n",
    "\n",
    "ac = accuracy_score(y_test, y_pred3)\n",
    "cm = confusion_matrix(y_test, y_pred3)\n",
    "\n",
    "print(\"Accuracy is :\",ac)"
   ]
  },
  {
   "cell_type": "markdown",
   "id": "2bc88195",
   "metadata": {},
   "source": [
    "## Kaggle Submissions"
   ]
  },
  {
   "cell_type": "code",
   "execution_count": 287,
   "id": "5e421d48",
   "metadata": {},
   "outputs": [
    {
     "data": {
      "text/html": [
       "<div>\n",
       "<style scoped>\n",
       "    .dataframe tbody tr th:only-of-type {\n",
       "        vertical-align: middle;\n",
       "    }\n",
       "\n",
       "    .dataframe tbody tr th {\n",
       "        vertical-align: top;\n",
       "    }\n",
       "\n",
       "    .dataframe thead th {\n",
       "        text-align: right;\n",
       "    }\n",
       "</style>\n",
       "<table border=\"1\" class=\"dataframe\">\n",
       "  <thead>\n",
       "    <tr style=\"text-align: right;\">\n",
       "      <th></th>\n",
       "      <th>index</th>\n",
       "      <th>text</th>\n",
       "    </tr>\n",
       "  </thead>\n",
       "  <tbody>\n",
       "    <tr>\n",
       "      <th>0</th>\n",
       "      <td>1</td>\n",
       "      <td>Mmasepala, fa maemo a a kgethegileng a letlele...</td>\n",
       "    </tr>\n",
       "    <tr>\n",
       "      <th>1</th>\n",
       "      <td>2</td>\n",
       "      <td>Uzakwaziswa ngokufaneleko nakungafuneka eminye...</td>\n",
       "    </tr>\n",
       "    <tr>\n",
       "      <th>2</th>\n",
       "      <td>3</td>\n",
       "      <td>Tshivhumbeo tshi fana na ngano dza vhathu.</td>\n",
       "    </tr>\n",
       "    <tr>\n",
       "      <th>3</th>\n",
       "      <td>4</td>\n",
       "      <td>Kube inja nelikati betingevakala kutsi titsini...</td>\n",
       "    </tr>\n",
       "    <tr>\n",
       "      <th>4</th>\n",
       "      <td>5</td>\n",
       "      <td>Winste op buitelandse valuta.</td>\n",
       "    </tr>\n",
       "  </tbody>\n",
       "</table>\n",
       "</div>"
      ],
      "text/plain": [
       "   index                                               text\n",
       "0      1  Mmasepala, fa maemo a a kgethegileng a letlele...\n",
       "1      2  Uzakwaziswa ngokufaneleko nakungafuneka eminye...\n",
       "2      3         Tshivhumbeo tshi fana na ngano dza vhathu.\n",
       "3      4  Kube inja nelikati betingevakala kutsi titsini...\n",
       "4      5                      Winste op buitelandse valuta."
      ]
     },
     "execution_count": 287,
     "metadata": {},
     "output_type": "execute_result"
    }
   ],
   "source": [
    "#Load test data\n",
    "\n",
    "test_df = pd.read_csv('test_set.csv')\n",
    "test_df.head()"
   ]
  },
  {
   "cell_type": "code",
   "execution_count": 288,
   "id": "d0d47dad",
   "metadata": {},
   "outputs": [
    {
     "data": {
      "text/plain": [
       "0    Mmasepala, fa maemo a a kgethegileng a letlele...\n",
       "1    Uzakwaziswa ngokufaneleko nakungafuneka eminye...\n",
       "2           Tshivhumbeo tshi fana na ngano dza vhathu.\n",
       "3    Kube inja nelikati betingevakala kutsi titsini...\n",
       "4                        Winste op buitelandse valuta.\n",
       "Name: text, dtype: object"
      ]
     },
     "execution_count": 288,
     "metadata": {},
     "output_type": "execute_result"
    }
   ],
   "source": [
    "test_data = test_df['text']\n",
    "test_data.head()"
   ]
  },
  {
   "cell_type": "code",
   "execution_count": 289,
   "id": "518f452e",
   "metadata": {},
   "outputs": [
    {
     "data": {
      "text/plain": [
       "(5682,)"
      ]
     },
     "execution_count": 289,
     "metadata": {},
     "output_type": "execute_result"
    }
   ],
   "source": [
    "test_data.shape"
   ]
  },
  {
   "cell_type": "code",
   "execution_count": 290,
   "id": "45047e6b",
   "metadata": {},
   "outputs": [],
   "source": [
    "test_data = test_df['text'].apply(lambda c: define(c))"
   ]
  },
  {
   "cell_type": "code",
   "execution_count": 317,
   "id": "f5e9d61a",
   "metadata": {},
   "outputs": [],
   "source": [
    "test = tf.transform(test_data)"
   ]
  },
  {
   "cell_type": "code",
   "execution_count": 319,
   "id": "08257cd5",
   "metadata": {},
   "outputs": [],
   "source": [
    "pred = forest.predict(test)\n",
    "b = le.inverse_transform(pred)\n",
    "sub_id = test_df['index'].to_list()\n",
    "sub_pred = b.tolist()\n",
    "list_of_tuples = list(zip(sub_id, sub_pred))\n",
    "submission_df = pd.DataFrame(list_of_tuples,\n",
    "                  columns = ['index', 'lang_id'])\n",
    "submission_df.set_index('index', inplace=True)\n",
    "\n",
    "submission_df.to_csv('forest_Submission.csv')"
   ]
  },
  {
   "cell_type": "code",
   "execution_count": null,
   "id": "30032d64",
   "metadata": {},
   "outputs": [],
   "source": []
  }
 ],
 "metadata": {
  "kernelspec": {
   "display_name": "Python 3 (ipykernel)",
   "language": "python",
   "name": "python3"
  },
  "language_info": {
   "codemirror_mode": {
    "name": "ipython",
    "version": 3
   },
   "file_extension": ".py",
   "mimetype": "text/x-python",
   "name": "python",
   "nbconvert_exporter": "python",
   "pygments_lexer": "ipython3",
   "version": "3.10.2"
  }
 },
 "nbformat": 4,
 "nbformat_minor": 5
}
